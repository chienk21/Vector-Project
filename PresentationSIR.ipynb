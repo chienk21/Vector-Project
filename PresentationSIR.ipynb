{
 "metadata": {
  "language_info": {
   "codemirror_mode": {
    "name": "ipython",
    "version": 3
   },
   "file_extension": ".py",
   "mimetype": "text/x-python",
   "name": "python",
   "nbconvert_exporter": "python",
   "pygments_lexer": "ipython3",
   "version": 3
  },
  "orig_nbformat": 2
 },
 "nbformat": 4,
 "nbformat_minor": 2,
 "cells": [
  {
   "cell_type": "code",
   "execution_count": null,
   "metadata": {},
   "outputs": [],
   "source": []
  },
  {
   "cell_type": "code",
   "execution_count": null,
   "metadata": {},
   "outputs": [],
   "source": [
    "import numpy as numpy\n",
    "from scipy.integrate import odeint\n",
    "import matplotlib.pyplot as plt \n",
    "\n",
    "#Total population, N.\n",
    "N = 1000\n",
    "# Initial number of infected and recovered individuals, I0 and R0\n",
    "I0 = 1\n",
    "R0 = 0\n",
    "# Everyone else, S0, is susceptible to infection initially.\n",
    "S0 = N - I0 - R0\n",
    "# Contact rate, beta, and mean recovery rate, gamma, (in 1/days).\n",
    "beta = 0.2\n",
    "gamma = 1/10\n"
   ]
  }
 ]
}